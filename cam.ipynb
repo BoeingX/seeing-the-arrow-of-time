{
 "cells": [
  {
   "cell_type": "code",
   "execution_count": 2,
   "metadata": {
    "collapsed": true
   },
   "outputs": [],
   "source": [
    "import cv2\n",
    "import numpy as np\n",
    "import matplotlib.pyplot as plt\n",
    "import sys\n",
    "import caffe\n",
    "import os\n",
    "# display plots in this notebook\n",
    "%matplotlib inline\n",
    "# set display defaults\n",
    "plt.rcParams['figure.figsize'] = (10, 10)        # large images\n",
    "plt.rcParams['image.interpolation'] = 'nearest'  # don't interpolate: show square pixels\n",
    "plt.rcParams['image.cmap'] = 'gray'  # use grayscale output rather than a (potentially misleading) color heatmap"
   ]
  },
  {
   "cell_type": "code",
   "execution_count": 5,
   "metadata": {
    "collapsed": true
   },
   "outputs": [],
   "source": [
    "def load_list(data_dir, prefix = None, dataset = 1):\n",
    "    train_list = os.path.join(data_dir, 'train') + str(dataset) + '.idx'\n",
    "    test_list = os.path.join(data_dir, 'test') + str(dataset) + '.idx'\n",
    "    with open(train_list) as f:\n",
    "        train_list = f.read().splitlines()\n",
    "    with open(test_list) as f:\n",
    "        test_list = f.read().splitlines()\n",
    "    if prefix is not None:\n",
    "        train_list = map(lambda x: os.path.join(prefix, x), train_list)\n",
    "        test_list = map(lambda x: os.path.join(prefix, x), test_list)\n",
    "    return train_list, test_list\n",
    "\n",
    "def load_img(filename, flip = False, grayscale = False):\n",
    "    if grayscale:\n",
    "        img = cv2.imread(filename, cv2.IMREAD_GRAYSCALE)\n",
    "    else:\n",
    "        img = cv2.imread(filename)\n",
    "    if flip:\n",
    "        img = cv2.flip(img, 1)\n",
    "    if grayscale:\n",
    "        width, height = img.shape\n",
    "    else:\n",
    "        width, height, _ = img.shape\n",
    "    factor = max(256.0 / width, 256.0 / height)\n",
    "    img = cv2.resize(img, None, fx = factor, fy = factor)\n",
    "    return img\n",
    "\n",
    "def load_imgs(filenames, reverse = False, flip = False, grayscale = False):\n",
    "    if reverse:\n",
    "        filenames = filenames[::-1]\n",
    "    imgs = map(lambda x: load_img(x, flip, grayscale), filenames)\n",
    "    return imgs\n",
    "\n",
    "def load_video(video, data_dir, mask = None, reverse = False, flip = False, grayscale = False):\n",
    "    filenames = os.listdir(os.path.join(data_dir, video))\n",
    "    filenames = filter(lambda x: x[-4:] == 'jpeg', filenames)\n",
    "    if mask is not None:\n",
    "        filenames = filter(mask, filenames)\n",
    "    filenames.sort()\n",
    "    filenames = map(lambda x: os.path.join(data_dir, video, x), filenames)\n",
    "    imgs = load_imgs(filenames, reverse, flip, grayscale)\n",
    "    return imgs\n",
    "\n",
    "def is_forward(video):\n",
    "    if video[0] == 'F':\n",
    "        return True\n",
    "    return False\n",
    "\n",
    "def select(imgs, n = 5):\n",
    "    mags = [None] * (len(imgs)/2)\n",
    "    for i in range(len(imgs)/2):\n",
    "        mag, _ = cv2.cartToPolar(np.asarray(imgs[2*i], dtype = np.float32), np.asarray(imgs[2*i+1], dtype = np.float32))\n",
    "    mags[i] = cv2.norm(mag)\n",
    "    mags = np.asarray(mags)\n",
    "    idx = np.argsort(mags)[::-1][:n]\n",
    "    idx.sort()\n",
    "    return idx\n",
    "def load_flows(video, direction):\n",
    "    imgs_ = load_video(video, './data/ArrowDataAll', \n",
    "                               mask = lambda x: x[:3] == 'of' + direction, \n",
    "                               grayscale=True)\n",
    "    imgs_ = map(lambda x: cv2.resize(x, (227, 227)), imgs_)\n",
    "    return imgs_"
   ]
  },
  {
   "cell_type": "code",
   "execution_count": 6,
   "metadata": {
    "collapsed": true
   },
   "outputs": [],
   "source": [
    "caffe.set_mode_cpu()"
   ]
  },
  {
   "cell_type": "code",
   "execution_count": 7,
   "metadata": {
    "collapsed": false
   },
   "outputs": [],
   "source": [
    "model_def = 'models/alexnetplus/deploy_alexnetplusCAM_imagenet.prototxt'\n",
    "model_weights = 'models/alexnetplus/alexnetplusCAM_imagenet.caffemodel'\n",
    "net = caffe.Net(model_def, model_weights, caffe.TEST)"
   ]
  },
  {
   "cell_type": "code",
   "execution_count": 8,
   "metadata": {
    "collapsed": true
   },
   "outputs": [],
   "source": [
    "caffe_root = '/home/bysong/caffe/'\n",
    "# load the mean ImageNet image (as distributed with Caffe) for subtraction\n",
    "mu = np.load(caffe_root + 'python/caffe/imagenet/ilsvrc_2012_mean.npy')\n",
    "mu = mu.mean(1).mean(1)  # average over pixels to obtain the mean (BGR) pixel values"
   ]
  },
  {
   "cell_type": "code",
   "execution_count": 9,
   "metadata": {
    "collapsed": true
   },
   "outputs": [],
   "source": [
    "# create transformer for the input called 'data'\n",
    "transformer = caffe.io.Transformer({'data': (1, 3, 227, 227)})\n",
    "transformer.set_transpose('data', (2,0,1))  # move image channels to outermost dimension\n",
    "transformer.set_mean('data', mu)            # subtract the dataset-mean value in each channel"
   ]
  },
  {
   "cell_type": "code",
   "execution_count": 28,
   "metadata": {
    "collapsed": true
   },
   "outputs": [],
   "source": [
    "net.blobs['data'].reshape(1, 9, 227, 227)"
   ]
  },
  {
   "cell_type": "code",
   "execution_count": 29,
   "metadata": {
    "collapsed": true
   },
   "outputs": [],
   "source": [
    "train_list, test_list = load_list('./data', dataset = 1)"
   ]
  },
  {
   "cell_type": "code",
   "execution_count": 30,
   "metadata": {
    "collapsed": true
   },
   "outputs": [],
   "source": [
    "train = 'F_aqvxyejK0MQ'\n",
    "imgs = load_video(train, './data/ArrowDataAll/')\n",
    "direction = 'f'\n",
    "flows = load_flows(train, direction)\n",
    "idx = select(flows, 11)\n",
    "imgs_ = np.take(imgs, idx, axis = 0)\n",
    "imgs_ = np.asarray(map(lambda x: transformer.preprocess('data', x), imgs_))"
   ]
  },
  {
   "cell_type": "code",
   "execution_count": 31,
   "metadata": {
    "collapsed": true
   },
   "outputs": [],
   "source": [
    "imgs = []\n",
    "for i in range(len(imgs_) - 2):\n",
    "    imgs.append(np.concatenate(imgs_[i:i+3], axis = 0))\n",
    "imgs = np.asarray(imgs)"
   ]
  },
  {
   "cell_type": "code",
   "execution_count": 32,
   "metadata": {
    "collapsed": false
   },
   "outputs": [],
   "source": [
    "img = imgs[0]"
   ]
  },
  {
   "cell_type": "code",
   "execution_count": 33,
   "metadata": {
    "collapsed": true
   },
   "outputs": [],
   "source": [
    "net.blobs['data'].data[...] = img\n",
    "output = net.forward()"
   ]
  },
  {
   "cell_type": "code",
   "execution_count": 34,
   "metadata": {
    "collapsed": false
   },
   "outputs": [
    {
     "data": {
      "text/plain": [
       "(1, 512, 1, 1)"
      ]
     },
     "execution_count": 34,
     "metadata": {},
     "output_type": "execute_result"
    }
   ],
   "source": [
    "output['pool8_global'].shape"
   ]
  },
  {
   "cell_type": "code",
   "execution_count": 35,
   "metadata": {
    "collapsed": false
   },
   "outputs": [
    {
     "data": {
      "text/plain": [
       "array([  0.00000000e+00,   0.00000000e+00,   0.00000000e+00,\n",
       "         5.90900898e-01,   2.27318788e+00,   8.16628695e-01,\n",
       "         3.71121578e-02,   0.00000000e+00,   5.70010580e-02,\n",
       "         4.64450747e-01,   2.44240131e-04,   5.37450361e+00,\n",
       "         3.89917463e-01,   0.00000000e+00,   5.74444485e+00,\n",
       "         5.76979108e-02,   1.33016980e+00,   4.26976919e-01,\n",
       "         0.00000000e+00,   0.00000000e+00,   0.00000000e+00,\n",
       "         0.00000000e+00,   1.12041444e-01,   0.00000000e+00,\n",
       "         3.13566566e-01,   4.92647380e-01,   0.00000000e+00,\n",
       "         3.58677602e+00,   3.19253206e+00,   1.11124430e+01,\n",
       "         0.00000000e+00,   6.41494095e-01,   6.22448213e-02,\n",
       "         3.45000100e+00,   0.00000000e+00,   5.54444456e+00,\n",
       "         0.00000000e+00,   2.80819368e-02,   4.87548262e-02,\n",
       "         1.82144456e-02,   2.60536551e-01,   8.20039928e-01,\n",
       "         2.70664543e-01,   5.76543435e-03,   0.00000000e+00,\n",
       "         4.54684734e+00,   1.30923226e-01,   0.00000000e+00,\n",
       "         8.34132135e-02,   6.98713243e-01,   4.65631224e-02,\n",
       "         1.74516961e-01,   1.66886437e+00,   0.00000000e+00,\n",
       "         2.26786947e+00,   1.30993500e-02,   7.36394644e-01,\n",
       "         2.99300718e+00,   0.00000000e+00,   3.38198453e-01,\n",
       "         1.09557319e+00,   7.08279312e-02,   1.86536014e+00,\n",
       "         1.65211886e-01,   4.73601013e-01,   8.83289278e-01,\n",
       "         3.83680940e-01,   3.66444969e+00,   1.87445562e-02,\n",
       "         2.24187583e-01,   5.18611622e+00,   0.00000000e+00,\n",
       "         3.10484767e+00,   0.00000000e+00,   6.18959093e+00,\n",
       "         4.82383633e+00,   5.50730973e-02,   1.07023156e+00,\n",
       "         1.36876762e-01,   0.00000000e+00,   1.64071238e+00,\n",
       "         2.68673468e+00,   0.00000000e+00,   1.77545339e-01,\n",
       "         2.27745220e-01,   0.00000000e+00,   0.00000000e+00,\n",
       "         0.00000000e+00,   1.96673065e-01,   1.50199430e-02,\n",
       "         4.20959502e-01,   1.44279921e+00,   0.00000000e+00,\n",
       "         0.00000000e+00,   6.44124627e-01,   0.00000000e+00,\n",
       "         0.00000000e+00,   4.23206472e+00,   8.82606411e+00,\n",
       "         6.88985214e-02,   0.00000000e+00,   2.24653888e+00,\n",
       "         3.63051668e-02,   1.19512975e+00,   5.84083652e+00,\n",
       "         0.00000000e+00,   2.61555314e-02,   2.46323511e-01,\n",
       "         5.08276522e-01,   2.54622817e+00,   0.00000000e+00,\n",
       "         6.46117926e-01,   0.00000000e+00,   4.29864597e+00,\n",
       "         3.22502196e-01,   0.00000000e+00,   7.12840408e-02,\n",
       "         1.09656021e-01,   0.00000000e+00,   0.00000000e+00,\n",
       "         4.59723854e+00,   0.00000000e+00,   7.06328824e-03,\n",
       "         0.00000000e+00,   7.61651933e-01,   2.13675642e+00,\n",
       "         8.56758729e-02,   2.19178289e-01,   2.02487141e-01,\n",
       "         1.62715828e+00,   0.00000000e+00,   0.00000000e+00,\n",
       "         5.73383713e+00,   8.81590962e-01,   9.41414714e-01,\n",
       "         1.68356621e+00,   0.00000000e+00,   5.37674204e-02,\n",
       "         0.00000000e+00,   0.00000000e+00,   7.44946480e-01,\n",
       "         0.00000000e+00,   2.79183328e-01,   0.00000000e+00,\n",
       "         9.99700785e-01,   0.00000000e+00,   0.00000000e+00,\n",
       "         6.93844929e-02,   0.00000000e+00,   0.00000000e+00,\n",
       "         3.05251575e+00,   5.30157280e+00,   4.78478432e-01,\n",
       "         3.29256840e-02,   5.99429655e+00,   1.49442816e+00,\n",
       "         0.00000000e+00,   0.00000000e+00,   7.62487575e-02,\n",
       "         2.71995234e+00,   8.80856160e-03,   9.64212988e-04,\n",
       "         2.83624142e-01,   0.00000000e+00,   0.00000000e+00,\n",
       "         0.00000000e+00,   0.00000000e+00,   9.69936609e-01,\n",
       "         0.00000000e+00,   9.49947298e-01,   6.54527724e-01,\n",
       "         1.18867747e-01,   0.00000000e+00,   2.69290358e-01,\n",
       "         1.88871706e+00,   4.65019178e+00,   2.95681834e+00,\n",
       "         0.00000000e+00,   0.00000000e+00,   0.00000000e+00,\n",
       "         0.00000000e+00,   1.33006859e+00,   1.61718708e-02,\n",
       "         4.45776606e+00,   0.00000000e+00,   0.00000000e+00,\n",
       "         1.04107233e-02,   2.61135668e-01,   0.00000000e+00,\n",
       "         4.66559291e-01,   5.56572080e-02,   8.01293612e-01,\n",
       "         5.08387148e-01,   5.97208500e-01,   1.20040250e+00,\n",
       "         0.00000000e+00,   1.16741765e+00,   0.00000000e+00,\n",
       "         4.31602240e-01,   8.56942415e-01,   1.38979793e-01,\n",
       "         7.18862200e+00,   0.00000000e+00,   1.78835422e-01,\n",
       "         2.03920865e+00,   0.00000000e+00,   1.05706319e-01,\n",
       "         0.00000000e+00,   8.84014189e-01,   3.80407184e-01,\n",
       "         0.00000000e+00,   1.82138514e-02,   2.13534781e-03,\n",
       "         0.00000000e+00,   0.00000000e+00,   0.00000000e+00,\n",
       "         1.02510381e+00,   9.76173592e+00,   1.26504886e+00,\n",
       "         6.35084510e-01,   2.76190281e+00,   0.00000000e+00,\n",
       "         0.00000000e+00,   0.00000000e+00,   7.52062941e+00,\n",
       "         8.99189830e-01,   6.84664071e-01,   0.00000000e+00,\n",
       "         3.11351824e+00,   3.48532915e+00,   0.00000000e+00,\n",
       "         2.27510905e+00,   0.00000000e+00,   1.36729464e-01,\n",
       "         1.27713919e-01,   9.83437657e-01,   3.85136962e+00,\n",
       "         0.00000000e+00,   1.93810260e+00,   1.02197602e-02,\n",
       "         0.00000000e+00,   6.16584271e-02,   0.00000000e+00,\n",
       "         0.00000000e+00,   3.43861985e+00,   2.26949501e+00,\n",
       "         3.76533478e-01,   3.18066859e+00,   5.46854973e-01,\n",
       "         4.00220156e-02,   0.00000000e+00,   0.00000000e+00,\n",
       "         0.00000000e+00,   0.00000000e+00,   4.05904412e-01,\n",
       "         0.00000000e+00,   2.85822940e+00,   3.59153056e+00,\n",
       "         0.00000000e+00,   3.04285789e+00,   2.36499357e+00,\n",
       "         7.02707469e-01,   1.92039144e+00,   0.00000000e+00,\n",
       "         4.71037865e+00,   3.22137207e-01,   6.67907143e+00,\n",
       "         2.86608413e-02,   0.00000000e+00,   1.36485493e+00,\n",
       "         0.00000000e+00,   0.00000000e+00,   8.56515020e-03,\n",
       "         0.00000000e+00,   2.52516484e+00,   5.78368521e+00,\n",
       "         8.95049155e-01,   6.19178343e+00,   1.41515136e-01,\n",
       "         5.77461338e+00,   0.00000000e+00,   2.63205171e-01,\n",
       "         1.37162507e+00,   2.59172750e+00,   3.86004376e+00,\n",
       "         2.68547475e-01,   1.33053362e+00,   2.81817794e-01,\n",
       "         5.60599566e-01,   2.50314295e-01,   5.49479663e-01,\n",
       "         1.15372133e+00,   1.16679072e+00,   6.10118210e-01,\n",
       "         3.62212467e+00,   5.58871031e+00,   3.84356354e-05,\n",
       "         5.52471541e-02,   0.00000000e+00,   8.41810882e-01,\n",
       "         1.29172683e-01,   2.24561319e-01,   2.80961919e+00,\n",
       "         4.16302353e-01,   8.66020560e-01,   0.00000000e+00,\n",
       "         1.18304705e-02,   3.54996681e-01,   0.00000000e+00,\n",
       "         2.75815248e+00,   2.84796453e+00,   1.28893256e+00,\n",
       "         4.37129164e+00,   8.47521275e-02,   1.19379491e-01,\n",
       "         1.27497005e+00,   3.06410521e-01,   1.15648776e-01,\n",
       "         5.78225279e+00,   3.29526998e-02,   2.06555438e+00,\n",
       "         6.36601597e-02,   2.32229874e-01,   1.68528295e+00,\n",
       "         1.96485412e+00,   8.08457673e-01,   3.74410123e-01,\n",
       "         8.57515812e-01,   3.17671752e+00,   3.79615641e+00,\n",
       "         1.14554070e-01,   0.00000000e+00,   1.83565646e-01,\n",
       "         7.30760002e+00,   4.53808993e-01,   1.13625455e+00,\n",
       "         1.48990631e-01,   1.43694139e+00,   0.00000000e+00,\n",
       "         0.00000000e+00,   2.38059759e+00,   7.49673009e-01,\n",
       "         9.84312475e-01,   0.00000000e+00,   2.99072475e-04,\n",
       "         4.88358164e+00,   5.50295353e+00,   1.30581129e+00,\n",
       "         1.87396371e+00,   1.56076893e-01,   5.65961264e-02,\n",
       "         0.00000000e+00,   4.61200863e-01,   0.00000000e+00,\n",
       "         3.68965745e-01,   1.93651617e+00,   2.21422625e+00,\n",
       "         4.07407075e-01,   3.37538362e+00,   1.31066933e-01,\n",
       "         3.61366820e+00,   1.99604481e-01,   1.50456846e+00,\n",
       "         6.57401001e-03,   2.69481003e-01,   4.84256148e-01,\n",
       "         5.60987592e-01,   1.92951179e+00,   0.00000000e+00,\n",
       "         2.69080792e-03,   0.00000000e+00,   4.68253911e-01,\n",
       "         2.72662973e+00,   1.02694012e-01,   4.40240145e+00,\n",
       "         4.45023012e+00,   6.02043200e+00,   6.92009568e-01,\n",
       "         7.54342694e-03,   1.70500004e+00,   1.39862940e-01,\n",
       "         2.66637832e-01,   1.73541868e+00,   2.83196807e-01,\n",
       "         0.00000000e+00,   2.08630323e+00,   0.00000000e+00,\n",
       "         1.46936834e+00,   0.00000000e+00,   0.00000000e+00,\n",
       "         4.20799303e+00,   9.03666973e-01,   2.12457240e-01,\n",
       "         1.43621337e+00,   2.11228564e-01,   1.42679906e+00,\n",
       "         5.90895128e+00,   0.00000000e+00,   0.00000000e+00,\n",
       "         4.15486127e-01,   2.92472899e-01,   4.19574916e-01,\n",
       "         7.70528853e-01,   9.30043221e-01,   1.28006768e+00,\n",
       "         3.69438417e-02,   3.95182997e-01,   4.75615597e+00,\n",
       "         0.00000000e+00,   4.76453733e+00,   1.02441287e+00,\n",
       "         6.73674345e-01,   2.32197905e+00,   1.74517024e+00,\n",
       "         4.13437903e-01,   6.81334877e+00,   2.12276030e+00,\n",
       "         0.00000000e+00,   3.78234297e-01,   5.70243120e-01,\n",
       "         6.03770353e-02,   0.00000000e+00,   2.11108789e-01,\n",
       "         4.66262430e-01,   9.29699838e-02,   7.69945955e+00,\n",
       "         5.41506946e-01,   2.21081257e-01,   1.66175187e-01,\n",
       "         0.00000000e+00,   0.00000000e+00,   0.00000000e+00,\n",
       "         6.48759631e-03,   1.99693930e+00,   2.16889668e+00,\n",
       "         1.88903421e-01,   2.64086783e-01,   8.17875266e-01,\n",
       "         2.64711529e-01,   5.99536514e+00,   0.00000000e+00,\n",
       "         2.37603235e+00,   2.82927245e-01,   4.47771549e+00,\n",
       "         5.61138451e-01,   3.17352271e+00,   6.04013562e-01,\n",
       "         0.00000000e+00,   6.71466112e-01,   0.00000000e+00,\n",
       "         4.20165919e-02,   3.49975437e-01,   0.00000000e+00,\n",
       "         9.35435414e-01,   3.72476387e+00,   1.17821801e+00,\n",
       "         0.00000000e+00,   1.32505074e-01,   4.01359606e+00,\n",
       "         1.89178777e+00,   7.31693029e-01,   1.15339875e+00,\n",
       "         7.98435748e-01,   1.77098572e-01,   2.20480889e-01,\n",
       "         1.31793618e+00,   3.07655871e-01,   5.50311841e-02,\n",
       "         0.00000000e+00,   1.10189748e+00,   1.19418073e+00,\n",
       "         1.44308770e+00,   6.95367996e-03,   1.58388102e+00,\n",
       "         1.82714331e+00,   1.12880421e+00,   7.77597427e-01,\n",
       "         7.79379964e-01,   4.37710524e+00,   2.73168355e-01,\n",
       "         5.19908965e-01,   1.54129803e-01,   3.81856561e-02,\n",
       "         1.87873101e+00,   5.01351535e-01,   6.08049536e+00,\n",
       "         1.02167714e+00,   4.43145066e-01,   5.94720602e-01,\n",
       "         3.51315707e-01,   0.00000000e+00,   1.09088767e+00,\n",
       "         4.64397907e+00,   1.40686139e-01,   6.39294267e-01,\n",
       "         1.81659901e+00,   9.76715505e-01,   1.04329920e+00,\n",
       "         0.00000000e+00,   7.91029453e-01,   6.43472910e-01,\n",
       "         1.78351545e+00,   1.13137968e-01,   3.26267457e+00,\n",
       "         2.68908143e-01,   2.38687468e+00,   5.67978859e-01,\n",
       "         1.62451297e-01,   2.22586002e-02,   1.92676914e+00,\n",
       "         2.93199532e-02,   0.00000000e+00], dtype=float32)"
      ]
     },
     "execution_count": 35,
     "metadata": {},
     "output_type": "execute_result"
    }
   ],
   "source": [
    "output['pool8_global'].squeeze()"
   ]
  },
  {
   "cell_type": "code",
   "execution_count": 45,
   "metadata": {
    "collapsed": false
   },
   "outputs": [
    {
     "data": {
      "text/plain": [
       "(512, 256, 3, 3)"
      ]
     },
     "execution_count": 45,
     "metadata": {},
     "output_type": "execute_result"
    }
   ],
   "source": [
    "net.params['conv7'][0].data.shape"
   ]
  },
  {
   "cell_type": "code",
   "execution_count": 46,
   "metadata": {
    "collapsed": true
   },
   "outputs": [],
   "source": [
    "def vis_square(data):\n",
    "    \"\"\"Take an array of shape (n, height, width) or (n, height, width, 3)\n",
    "       and visualize each (height, width) thing in a grid of size approx. sqrt(n) by sqrt(n)\"\"\"\n",
    "    \n",
    "    # normalize data for display\n",
    "    data = (data - data.min()) / (data.max() - data.min())\n",
    "    \n",
    "    # force the number of filters to be square\n",
    "    n = int(np.ceil(np.sqrt(data.shape[0])))\n",
    "    padding = (((0, n ** 2 - data.shape[0]),\n",
    "               (0, 1), (0, 1))                 # add some space between filters\n",
    "               + ((0, 0),) * (data.ndim - 3))  # don't pad the last dimension (if there is one)\n",
    "    data = np.pad(data, padding, mode='constant', constant_values=1)  # pad with ones (white)\n",
    "    \n",
    "    # tile the filters into an image\n",
    "    data = data.reshape((n, n) + data.shape[1:]).transpose((0, 2, 1, 3) + tuple(range(4, data.ndim + 1)))\n",
    "    data = data.reshape((n * data.shape[1], n * data.shape[3]) + data.shape[4:])\n",
    "    \n",
    "    plt.imshow(data); plt.axis('off')"
   ]
  },
  {
   "cell_type": "code",
   "execution_count": 74,
   "metadata": {
    "collapsed": false
   },
   "outputs": [
    {
     "ename": "AttributeError",
     "evalue": "'BlobVec' object has no attribute 'data'",
     "output_type": "error",
     "traceback": [
      "\u001b[0;31m-------------------------------------------------------------------\u001b[0m",
      "\u001b[0;31mAttributeError\u001b[0m                    Traceback (most recent call last)",
      "\u001b[0;32m<ipython-input-74-2a9abfabe36e>\u001b[0m in \u001b[0;36m<module>\u001b[0;34m()\u001b[0m\n\u001b[0;32m----> 1\u001b[0;31m \u001b[0mnet\u001b[0m\u001b[0;34m.\u001b[0m\u001b[0mparams\u001b[0m\u001b[0;34m[\u001b[0m\u001b[0;34m'conv1-stack'\u001b[0m\u001b[0;34m]\u001b[0m\u001b[0;34m.\u001b[0m\u001b[0mdata\u001b[0m\u001b[0;34m[\u001b[0m\u001b[0;36m0\u001b[0m\u001b[0;34m]\u001b[0m\u001b[0;34m[\u001b[0m\u001b[0;34m:\u001b[0m\u001b[0;36m3\u001b[0m\u001b[0;34m]\u001b[0m\u001b[0;34m.\u001b[0m\u001b[0mshape\u001b[0m\u001b[0;34m\u001b[0m\u001b[0m\n\u001b[0m",
      "\u001b[0;31mAttributeError\u001b[0m: 'BlobVec' object has no attribute 'data'"
     ]
    }
   ],
   "source": [
    "net.params['conv1-stack'][0].data[0][:3].shape"
   ]
  },
  {
   "cell_type": "code",
   "execution_count": 83,
   "metadata": {
    "collapsed": false
   },
   "outputs": [
    {
     "data": {
      "text/plain": [
       "(27, 27)"
      ]
     },
     "execution_count": 83,
     "metadata": {},
     "output_type": "execute_result"
    }
   ],
   "source": [
    "net.blobs['conv2'].data[0, 100].shape"
   ]
  },
  {
   "cell_type": "code",
   "execution_count": 88,
   "metadata": {
    "collapsed": false
   },
   "outputs": [
    {
     "data": {
      "text/plain": [
       "<matplotlib.image.AxesImage at 0x7fda25232f50>"
      ]
     },
     "execution_count": 88,
     "metadata": {},
     "output_type": "execute_result"
    },
    {
     "data": {
      "image/png": "[encoded data removed]",
      "text/plain": [
       "<matplotlib.figure.Figure at 0x7fda252a58d0>"
      ]
     },
     "metadata": {},
     "output_type": "display_data"
    }
   ],
   "source": [
    "filt_min, filt_max = net.blobs['conv1-stack'].data.min(), net.blobs['conv1-stack'].data.max()\n",
    "plt.imshow(net.blobs['conv1-stack'].data[0, 95], vmin = filt_min, vmax = filt_max)"
   ]
  },
  {
   "cell_type": "code",
   "execution_count": null,
   "metadata": {
    "collapsed": true
   },
   "outputs": [],
   "source": []
  }
 ],
 "metadata": {
  "kernelspec": {
   "display_name": "Python 2",
   "language": "python2",
   "name": "python2"
  },
  "language_info": {
   "codemirror_mode": {
    "name": "ipython",
    "version": 2
   },
   "file_extension": ".py",
   "mimetype": "text/x-python",
   "name": "python",
   "nbconvert_exporter": "python",
   "pygments_lexer": "ipython2",
   "version": "2.7.12"
  }
 },
 "nbformat": 4,
 "nbformat_minor": 2
}
