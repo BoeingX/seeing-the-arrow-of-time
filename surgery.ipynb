{
 "cells": [
  {
   "cell_type": "code",
   "execution_count": 1,
   "metadata": {
    "collapsed": true
   },
   "outputs": [],
   "source": [
    "import cv2\n",
    "import numpy as np\n",
    "import matplotlib.pyplot as plt\n",
    "import sys\n",
    "import caffe\n",
    "import os\n",
    "# display plots in this notebook\n",
    "%matplotlib inline\n",
    "# set display defaults\n",
    "plt.rcParams['figure.figsize'] = (10, 10)        # large images\n",
    "plt.rcParams['image.interpolation'] = 'nearest'  # don't interpolate: show square pixels\n",
    "plt.rcParams['image.cmap'] = 'gray'  # use grayscale output rather than a (potentially misleading) color heatmap"
   ]
  },
  {
   "cell_type": "code",
   "execution_count": 10,
   "metadata": {
    "collapsed": true
   },
   "outputs": [],
   "source": [
    "model_def = 'thirdparty/CAM/models/deploy_alexnetplusCAM_imagenet.prototxt'\n",
    "model_weights = 'thirdparty/CAM/models/alexnetplusCAM_imagenet.caffemodel'\n",
    "net = caffe.Net(model_def, model_weights, caffe.TEST) "
   ]
  },
  {
   "cell_type": "code",
   "execution_count": 11,
   "metadata": {
    "collapsed": false
   },
   "outputs": [
    {
     "data": {
      "text/plain": [
       "[('conv1', (96, 3, 11, 11)),\n",
       " ('conv2', (256, 48, 5, 5)),\n",
       " ('conv3', (384, 256, 3, 3)),\n",
       " ('conv4', (384, 192, 3, 3)),\n",
       " ('conv5', (384, 192, 3, 3)),\n",
       " ('conv6', (512, 192, 3, 3)),\n",
       " ('conv7', (512, 256, 3, 3)),\n",
       " ('fc9', (1000, 512))]"
      ]
     },
     "execution_count": 11,
     "metadata": {},
     "output_type": "execute_result"
    }
   ],
   "source": [
    "[(k, v[0].data.shape) for k, v in net.params.items()]"
   ]
  },
  {
   "cell_type": "code",
   "execution_count": 12,
   "metadata": {
    "collapsed": false
   },
   "outputs": [
    {
     "data": {
      "text/plain": [
       "[('data', (10, 3, 227, 227)),\n",
       " ('conv1', (10, 96, 55, 55)),\n",
       " ('pool1', (10, 96, 27, 27)),\n",
       " ('norm1', (10, 96, 27, 27)),\n",
       " ('conv2', (10, 256, 27, 27)),\n",
       " ('pool2', (10, 256, 13, 13)),\n",
       " ('norm2', (10, 256, 13, 13)),\n",
       " ('conv3', (10, 384, 13, 13)),\n",
       " ('conv4', (10, 384, 13, 13)),\n",
       " ('conv5', (10, 384, 13, 13)),\n",
       " ('pool5', (10, 384, 11, 11)),\n",
       " ('conv6', (10, 512, 11, 11)),\n",
       " ('conv7', (10, 512, 11, 11)),\n",
       " ('pool8_global', (10, 512, 1, 1)),\n",
       " ('fc9', (10, 1000)),\n",
       " ('prob', (10, 1000))]"
      ]
     },
     "execution_count": 12,
     "metadata": {},
     "output_type": "execute_result"
    }
   ],
   "source": [
    "[(k, v.data.shape) for k, v in net.blobs.items()]"
   ]
  },
  {
   "cell_type": "markdown",
   "metadata": {},
   "source": [
    "network surgery"
   ]
  },
  {
   "cell_type": "code",
   "execution_count": 4,
   "metadata": {
    "collapsed": false
   },
   "outputs": [
    {
     "data": {
      "text/plain": [
       "(96, 9, 11, 11)"
      ]
     },
     "execution_count": 4,
     "metadata": {},
     "output_type": "execute_result"
    }
   ],
   "source": [
    "conv1 = net.params['conv1'][0].data\n",
    "conv1_stack = np.repeat(conv1, 3, axis = 1)\n",
    "conv1_stack.shape"
   ]
  },
  {
   "cell_type": "code",
   "execution_count": 5,
   "metadata": {
    "collapsed": true
   },
   "outputs": [],
   "source": [
    "model_def = 'models/alexnetplus/deploy_alexnetplusCAM_imagenet.prototxt'\n",
    "model_weights = 'thirdparty/CAM/models/alexnetplusCAM_imagenet.caffemodel'\n",
    "net = caffe.Net(model_def, model_weights, caffe.TEST)"
   ]
  },
  {
   "cell_type": "code",
   "execution_count": 6,
   "metadata": {
    "collapsed": true
   },
   "outputs": [],
   "source": [
    "net.params['conv1-stack'][0].data[...] = conv1_stack"
   ]
  },
  {
   "cell_type": "code",
   "execution_count": 7,
   "metadata": {
    "collapsed": false
   },
   "outputs": [
    {
     "data": {
      "text/plain": [
       "[('conv1-stack', (96, 9, 11, 11)),\n",
       " ('conv2', (256, 48, 5, 5)),\n",
       " ('conv3', (384, 256, 3, 3)),\n",
       " ('conv4', (384, 192, 3, 3)),\n",
       " ('conv5', (384, 192, 3, 3)),\n",
       " ('conv6', (512, 192, 3, 3)),\n",
       " ('conv7', (512, 256, 3, 3))]"
      ]
     },
     "execution_count": 7,
     "metadata": {},
     "output_type": "execute_result"
    }
   ],
   "source": [
    "[(k, v[0].data.shape) for k, v in net.params.items()]"
   ]
  },
  {
   "cell_type": "code",
   "execution_count": 8,
   "metadata": {
    "collapsed": false
   },
   "outputs": [
    {
     "data": {
      "text/plain": [
       "[('data', (10, 9, 227, 227)),\n",
       " ('conv1-stack', (10, 96, 55, 55)),\n",
       " ('pool1', (10, 96, 27, 27)),\n",
       " ('norm1', (10, 96, 27, 27)),\n",
       " ('conv2', (10, 256, 27, 27)),\n",
       " ('pool2', (10, 256, 13, 13)),\n",
       " ('norm2', (10, 256, 13, 13)),\n",
       " ('conv3', (10, 384, 13, 13)),\n",
       " ('conv4', (10, 384, 13, 13)),\n",
       " ('conv5', (10, 384, 13, 13)),\n",
       " ('pool5', (10, 384, 11, 11)),\n",
       " ('conv6', (10, 512, 11, 11)),\n",
       " ('conv7', (10, 512, 11, 11)),\n",
       " ('pool8_global', (10, 512, 1, 1))]"
      ]
     },
     "execution_count": 8,
     "metadata": {},
     "output_type": "execute_result"
    }
   ],
   "source": [
    "[(k, v.data.shape) for k, v in net.blobs.items()]"
   ]
  },
  {
   "cell_type": "code",
   "execution_count": 9,
   "metadata": {
    "collapsed": true
   },
   "outputs": [],
   "source": [
    "net.save('models/alexnetplus/alexnetplusCAM_imagenet.caffemodel')"
   ]
  }
 ],
 "metadata": {
  "kernelspec": {
   "display_name": "Python 2",
   "language": "python2",
   "name": "python2"
  },
  "language_info": {
   "codemirror_mode": {
    "name": "ipython",
    "version": 2
   },
   "file_extension": ".py",
   "mimetype": "text/x-python",
   "name": "python",
   "nbconvert_exporter": "python",
   "pygments_lexer": "ipython2",
   "version": "2.7.12"
  }
 },
 "nbformat": 4,
 "nbformat_minor": 2
}
